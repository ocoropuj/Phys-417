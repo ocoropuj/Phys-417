{
 "cells": [
  {
   "attachments": {},
   "cell_type": "markdown",
   "id": "c76bd7e6",
   "metadata": {},
   "source": [
    "# Lab 8 Report: \n",
    "## FINAL PROJECT STRATEGIC PLANNING"
   ]
  },
  {
   "attachments": {},
   "cell_type": "markdown",
   "id": "3f5ed902",
   "metadata": {},
   "source": [
    "### Lab 8 Instruction: \n",
    "https://canvas.uw.edu/files/106242897/download?download_frd=1"
   ]
  },
  {
   "attachments": {},
   "cell_type": "markdown",
   "id": "0098c149",
   "metadata": {},
   "source": [
    "### Team Members: Dylan Jones and OScar Coromina Pujol"
   ]
  },
  {
   "attachments": {},
   "cell_type": "markdown",
   "id": "36869478",
   "metadata": {},
   "source": [
    "### Dataset for your project:"
   ]
  },
  {
   "attachments": {},
   "cell_type": "markdown",
   "id": "7b08ff02",
   "metadata": {},
   "source": [
    "#### Feel free to delete or modify pre-written markdown cells below the line"
   ]
  },
  {
   "attachments": {},
   "cell_type": "markdown",
   "id": "3fe993be",
   "metadata": {},
   "source": [
    "---"
   ]
  },
  {
   "cell_type": "code",
   "execution_count": 1,
   "id": "35fc128b",
   "metadata": {},
   "outputs": [],
   "source": [
    "%matplotlib inline\n",
    "\n",
    "import numpy as np\n",
    "import matplotlib.pyplot as plt\n",
    "import pandas as pd\n",
    "import seaborn as sns\n",
    "from sklearn.preprocessing import StandardScaler\n",
    "import datetime\n",
    "import pandas as pd\n",
    "from sklearn.preprocessing import StandardScaler\n",
    "from meteostat import Point, Daily, Hourly, Stations\n",
    "import torch\n",
    "import seaborn as sns\n"
   ]
  },
  {
   "attachments": {},
   "cell_type": "markdown",
   "id": "596ea344",
   "metadata": {},
   "source": [
    "## Understanding the Data"
   ]
  },
  {
   "cell_type": "code",
   "execution_count": 2,
   "id": "53027328",
   "metadata": {},
   "outputs": [
    {
     "name": "stdout",
     "output_type": "stream",
     "text": [
      "<class 'pandas.core.frame.DataFrame'>\n",
      "DatetimeIndex: 149017 entries, 2006-01-01 00:00:00 to 2023-01-01 00:00:00\n",
      "Freq: H\n",
      "Data columns (total 11 columns):\n",
      " #   Column  Non-Null Count   Dtype  \n",
      "---  ------  --------------   -----  \n",
      " 0   temp    149017 non-null  float64\n",
      " 1   dwpt    149017 non-null  float64\n",
      " 2   rhum    149017 non-null  float64\n",
      " 3   prcp    147983 non-null  float64\n",
      " 4   snow    0 non-null       float64\n",
      " 5   wdir    146331 non-null  float64\n",
      " 6   wspd    149017 non-null  float64\n",
      " 7   wpgt    0 non-null       float64\n",
      " 8   pres    149014 non-null  float64\n",
      " 9   tsun    0 non-null       float64\n",
      " 10  coco    42953 non-null   float64\n",
      "dtypes: float64(11)\n",
      "memory usage: 13.6 MB\n"
     ]
    }
   ],
   "source": [
    "\n",
    "lat = 47.6\n",
    "lon = -122.3\n",
    "\n",
    "# Define start and end times\n",
    "start = datetime.datetime(2006, 1, 1)\n",
    "end = datetime.datetime(2023, 1, 1)\n",
    "\n",
    "data = Hourly(Point(lat,lon), start=start, end=end).fetch()\n",
    "\n",
    "# Find how much data we have\n",
    "data.info()"
   ]
  },
  {
   "cell_type": "code",
   "execution_count": 3,
   "id": "1e0d5686",
   "metadata": {},
   "outputs": [
    {
     "name": "stdout",
     "output_type": "stream",
     "text": [
      "temp    False\n",
      "dwpt    False\n",
      "pres     True\n",
      "wdir     True\n",
      "dtype: bool\n",
      "temp    False\n",
      "dwpt    False\n",
      "pres    False\n",
      "wdir    False\n",
      "dtype: bool\n"
     ]
    },
    {
     "name": "stderr",
     "output_type": "stream",
     "text": [
      "SettingWithCopyWarning: \n",
      "A value is trying to be set on a copy of a slice from a DataFrame\n",
      "\n",
      "See the caveats in the documentation: https://pandas.pydata.org/pandas-docs/stable/user_guide/indexing.html#returning-a-view-versus-a-copy\n",
      "SettingWithCopyWarning: \n",
      "A value is trying to be set on a copy of a slice from a DataFrame\n",
      "\n",
      "See the caveats in the documentation: https://pandas.pydata.org/pandas-docs/stable/user_guide/indexing.html#returning-a-view-versus-a-copy\n",
      "SettingWithCopyWarning: \n",
      "A value is trying to be set on a copy of a slice from a DataFrame\n",
      "\n",
      "See the caveats in the documentation: https://pandas.pydata.org/pandas-docs/stable/user_guide/indexing.html#returning-a-view-versus-a-copy\n",
      "SettingWithCopyWarning: \n",
      "A value is trying to be set on a copy of a slice from a DataFrame\n",
      "\n",
      "See the caveats in the documentation: https://pandas.pydata.org/pandas-docs/stable/user_guide/indexing.html#returning-a-view-versus-a-copy\n"
     ]
    }
   ],
   "source": [
    "# Extract all relevant channels and impute and missing values\n",
    "data_cleaned = data[['temp', 'dwpt', 'pres', 'wdir']]\n",
    "print(data_cleaned.isna().any())\n",
    "\n",
    "# Replace NaN values with 0 for 'prcp' feature\n",
    "# data_cleaned['prcp'].fillna(0, inplace=True)\n",
    "\n",
    "# Use linear interpolation for other features\n",
    "data_cleaned['temp'].interpolate(method='linear', inplace=True)\n",
    "data_cleaned['dwpt'].interpolate(method='linear', inplace=True)\n",
    "# data_cleaned['wspd'].interpolate(method='linear', inplace=True)\n",
    "data_cleaned['wdir'].interpolate(method='linear', inplace=True)\n",
    "data_cleaned['pres'].interpolate(method='linear', inplace=True)\n",
    "\n",
    "print(data_cleaned.isna().any())\n"
   ]
  },
  {
   "cell_type": "code",
   "execution_count": 4,
   "id": "de556a14",
   "metadata": {},
   "outputs": [
    {
     "data": {
      "image/png": "[encoded data removed]",
      "text/plain": [
       "<Figure size 600x200 with 2 Axes>"
      ]
     },
     "metadata": {},
     "output_type": "display_data"
    }
   ],
   "source": [
    "# Generate correlation matrix \n",
    "sns.set()\n",
    "correlation_matrix = data_cleaned.corr()\n",
    "# first_row = correlation_matrix.iloc[0].to_frame().T\n",
    "plt.figure(figsize=(6, 2))\n",
    "sns.heatmap(correlation_matrix, annot=True, cmap='coolwarm')\n",
    "plt.title('Correlation Plot')\n",
    "plt.show()"
   ]
  },
  {
   "cell_type": "code",
   "execution_count": 5,
   "id": "50c98dda",
   "metadata": {},
   "outputs": [
    {
     "data": {
      "text/plain": [
       "4"
      ]
     },
     "execution_count": 5,
     "metadata": {},
     "output_type": "execute_result"
    }
   ],
   "source": [
    "timeseries = data_cleaned.values.astype('float32')\n",
    "\n",
    "mea=np.mean(timeseries[:,0])\n",
    "sig=np.std(timeseries[:,0])\n",
    "\n",
    "scaler = StandardScaler()\n",
    "\n",
    "scaler.fit(timeseries)\n",
    "\n",
    "timeseries=scaler.transform(timeseries)\n",
    "\n",
    "#With this next line (executed) we can include time into the timeseries\n",
    "#timeseries=np.squeeze(combine_arrays(timeseries,transformed_dates)).astype('float32')\n",
    "\n",
    "# train-test split for time series\n",
    "train_size = int(len(timeseries) * 0.67)\n",
    "test_size = len(timeseries) - train_size\n",
    "train, test = timeseries[:train_size], timeseries[train_size:]\n",
    "\n",
    "num_features=timeseries.shape[1]\n",
    "\n",
    "num_features"
   ]
  },
  {
   "attachments": {},
   "cell_type": "markdown",
   "id": "526dd6ab",
   "metadata": {},
   "source": [
    "## Understanding the Task"
   ]
  },
  {
   "attachments": {},
   "cell_type": "markdown",
   "id": "7cafad17",
   "metadata": {},
   "source": [
    "We are trying to do prediction of a time series. The time series is weather, which can be a really useful thing to predict. We will evaluate it by plotting predicted temperature with actual temperature to evaluate how similar is it."
   ]
  },
  {
   "attachments": {},
   "cell_type": "markdown",
   "id": "f275694a",
   "metadata": {},
   "source": [
    "## Developing an initial plan for your project"
   ]
  },
  {
   "attachments": {},
   "cell_type": "markdown",
   "id": "0bcf2b94",
   "metadata": {},
   "source": [
    "We are trying to use an LSTM model to predict the time series. After some testing, we will combine a hybrid of an LSTM and a fully connected layer."
   ]
  }
 ],
 "metadata": {
  "kernelspec": {
   "display_name": "Python 3 (ipykernel)",
   "language": "python",
   "name": "python3"
  },
  "language_info": {
   "codemirror_mode": {
    "name": "ipython",
    "version": 3
   },
   "file_extension": ".py",
   "mimetype": "text/x-python",
   "name": "python",
   "nbconvert_exporter": "python",
   "pygments_lexer": "ipython3",
   "version": "3.8.0"
  }
 },
 "nbformat": 4,
 "nbformat_minor": 5
}
