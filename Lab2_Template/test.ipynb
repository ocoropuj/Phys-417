{
 "cells": [
  {
   "cell_type": "markdown",
   "metadata": {},
   "source": [
    "# Lab 2 Report: \n",
    "## Iris Classification with Regression"
   ]
  },
  {
   "cell_type": "markdown",
   "metadata": {},
   "source": [
    "### Name:"
   ]
  },
  {
   "cell_type": "code",
   "execution_count": 1,
   "metadata": {},
   "outputs": [],
   "source": [
    "# Import neccessary packages\n",
    "\n",
    "%matplotlib inline\n",
    "\n",
    "import torch\n",
    "import numpy as np\n",
    "import matplotlib.pyplot as plt\n",
    "\n"
   ]
  },
  {
   "cell_type": "markdown",
   "metadata": {},
   "source": [
    "## Prepare Data"
   ]
  },
  {
   "cell_type": "code",
   "execution_count": 193,
   "metadata": {},
   "outputs": [
    {
     "name": "stdout",
     "output_type": "stream",
     "text": [
      "[0.31696605]\n"
     ]
    },
    {
     "data": {
      "image/png": "[encoded data removed]",
      "text/plain": [
       "<Figure size 640x480 with 1 Axes>"
      ]
     },
     "metadata": {},
     "output_type": "display_data"
    }
   ],
   "source": [
    "a=np.linspace(0,10,30)\n",
    "#print(a)\n",
    "A=[]\n",
    "\n",
    "print(np.random.ranf(1))\n",
    "A1=[0, 0, 0.0428225478446104, 0.13790930823955808, 0.3059049706788043, 0.4281304272410339, 0.8402404319453752, 1.0439016954127531, 1.2079052255685614, 1.5681969856298237, 1.9816740047110788, 2.0518155272298597, 1.9843723450363344, 1.3663866274822585, 0.9173831370516763, 0.7490732887492827, -0.32981734138372243, -0.012347547903778802, 0.07169348402934116, 0.002388582665622784, 0.1452645938980495, 0.5168052658790603, 1.1056261895423438, 0.3535440221862468, 1.4317354433843248, 3.3096122421493055, 3.067918445006449, 3.7343319810029647, 5.49595728521923, 5.715573147623238]\n",
    "[0.27433941]\n",
    "A2=[0, 0, 0.0428225478446104, 0.13790930823955808, 0.3059049706788043, 0.5343529773152933, 0.8496881019282854, 1.1835306978249134, 1.3682137217258896, 1.7909932469404009, 1.633100856460499, 2.0518155272298597, 1.9843723450363344, 1.5545821342139279, 0.7682692852660166, 0.606703586290901, -0.037963420765029454, 0.31297626823671393, -0.17194357708973843, -0.9391947080305213, 0.1452645938980495, -0.21431270685253007, 1.1056261895423438, 1.8716905410524676, 2.325983046800767, 3.3205279387702467, 4.487953306571085, 4.00917313760487, 5.5883011878071205, 5.111638162223993]\n",
    "[0.74426369]\n",
    "A3=[0, 0, -0.07959018936598124, 0.13790930823955808, 0.3059049706788043, 0.5478617740071878, 0.8496881019282854, 1.1835306978249134, 1.216451005750446, 1.6268830393827227, 1.9816740047110788, 2.0518155272298597, 1.7536193524063295, 1.1772156231869095, 1.4639889386340128, 0.11352946550709525, 0.6691144162253271, 0.31297626823671393, 0.07169348402934116, -1.0569030264626933, 0.1452645938980495, -0.6431273236518846, 1.1056261895423438, 1.8716905410524676, 2.749200081140672, 3.6530100979079725, 4.113313477571248, 4.563052491008916, 3.827556727383333, 5.132823717284697]\n",
    "[0.43239816]\n",
    "A4=[0, 0, 0.0428225478446104, -0.018079420760533465, 0.2305511734019895, 0.5478617740071878, 0.592667843024782, 1.1503647740705392, 1.511461254570433, 1.7909932469404009, 1.9816740047110788, 2.0518155272298597, 1.9843723450363344, 1.7810563120512997, 1.0635717855934448, 0.18317796976429745, 0.6168982678488621, 0.31297626823671393, 0.07169348402934116, 0.002388582665622784, 0.1452645938980495, -0.7433922186141952, -0.2563938420687808, 1.572677665495522, 1.2076053850957502, 3.6530100979079725, 4.429386156137227, 4.389131513893285, 4.755568955395418, 5.715573147623238]\n",
    "[0.30612225]\n",
    "A5=[0, 0, 0.001314485164048057, -0.0181412665399524, 0.3059049706788043, 0.4962430588798787, 0.7422167789149797, 1.1835306978249134, 1.511461254570433, 1.2170666789090898, 1.9816740047110788, 1.652451540578757, 1.327561966008014, 1.7810563120512997, 1.4639889386340128, 0.7222323635326079, 0.49754452842828933, 0.31297626823671393, -0.09332452611012416, 0.002388582665622784, -0.20811211254319398, -0.8673603430038437, 1.1056261895423438, 1.8716905410524676, 1.820866607935106, 2.489483821160587, 3.895212079421122, 5.160051707088628, 4.919803911500968, 5.715573147623238]\n",
    "[0.83632813]\n",
    "\n",
    "for i in range(len(A1)):\n",
    "    A.append(A1[i])\n",
    "    A.append(A2[i])\n",
    "    A.append(A3[i])\n",
    "    A.append(A4[i])\n",
    "    A.append(A5[i])\n",
    "a=np.linspace(0,10,len(A))\n",
    "#plt.plot(a,A1,'o',color='black')\n",
    "#plt.plot(a,A2,'o',color='red')\n",
    "#plt.plot(a,A3,'o',color='green')\n",
    "#plt.plot(a,A4,'o',color='blue')\n",
    "#plt.plot(a,A5,'o',color='gray')\n",
    "At=[]\n",
    "for i in range(len(A)):\n",
    "    At.append([a[i],A[i]])\n",
    "AT=torch.Tensor(At)\n",
    "plt.plot(a,A,'o')\n",
    "plt.show()"
   ]
  },
  {
   "cell_type": "markdown",
   "metadata": {},
   "source": [
    "## Define Model"
   ]
  },
  {
   "cell_type": "code",
   "execution_count": 203,
   "metadata": {},
   "outputs": [],
   "source": [
    "class line(torch.nn.Module):\n",
    "    \n",
    "    def __init__(self, input_dim, output_dim):\n",
    "        \n",
    "        super(line, self).__init__()\n",
    "        \n",
    "        self.linear = torch.nn.Linear(input_dim, output_dim)\n",
    "\n",
    "    def forward(self, x):\n",
    "\n",
    "        y = self.linear(x)\n",
    "        \n",
    "        return y"
   ]
  },
  {
   "cell_type": "markdown",
   "metadata": {},
   "source": [
    "## Define Hyperparameters"
   ]
  },
  {
   "cell_type": "code",
   "execution_count": 205,
   "metadata": {},
   "outputs": [
    {
     "ename": "RuntimeError",
     "evalue": "mat1 and mat2 shapes cannot be multiplied (1x30 and 1x1)",
     "output_type": "error",
     "traceback": [
      "\u001b[0;31m---------------------------------------------------------------------------\u001b[0m",
      "\u001b[0;31mRuntimeError\u001b[0m                              Traceback (most recent call last)",
      "Cell \u001b[0;32mIn[205], line 9\u001b[0m\n\u001b[1;32m      7\u001b[0m loss_func \u001b[39m=\u001b[39m torch\u001b[39m.\u001b[39mnn\u001b[39m.\u001b[39mMSELoss()\n\u001b[1;32m      8\u001b[0m optimizer \u001b[39m=\u001b[39m torch\u001b[39m.\u001b[39moptim\u001b[39m.\u001b[39mSGD(model\u001b[39m.\u001b[39mparameters(), lr \u001b[39m=\u001b[39m learning_rate)\n\u001b[0;32m----> 9\u001b[0m \u001b[39mprint\u001b[39m(model(torch\u001b[39m.\u001b[39;49mtensor(A1)))\n",
      "File \u001b[0;32m/opt/anaconda3/envs/PHYS417/lib/python3.8/site-packages/torch/nn/modules/module.py:1102\u001b[0m, in \u001b[0;36mModule._call_impl\u001b[0;34m(self, *input, **kwargs)\u001b[0m\n\u001b[1;32m   1098\u001b[0m \u001b[39m# If we don't have any hooks, we want to skip the rest of the logic in\u001b[39;00m\n\u001b[1;32m   1099\u001b[0m \u001b[39m# this function, and just call forward.\u001b[39;00m\n\u001b[1;32m   1100\u001b[0m \u001b[39mif\u001b[39;00m \u001b[39mnot\u001b[39;00m (\u001b[39mself\u001b[39m\u001b[39m.\u001b[39m_backward_hooks \u001b[39mor\u001b[39;00m \u001b[39mself\u001b[39m\u001b[39m.\u001b[39m_forward_hooks \u001b[39mor\u001b[39;00m \u001b[39mself\u001b[39m\u001b[39m.\u001b[39m_forward_pre_hooks \u001b[39mor\u001b[39;00m _global_backward_hooks\n\u001b[1;32m   1101\u001b[0m         \u001b[39mor\u001b[39;00m _global_forward_hooks \u001b[39mor\u001b[39;00m _global_forward_pre_hooks):\n\u001b[0;32m-> 1102\u001b[0m     \u001b[39mreturn\u001b[39;00m forward_call(\u001b[39m*\u001b[39;49m\u001b[39minput\u001b[39;49m, \u001b[39m*\u001b[39;49m\u001b[39m*\u001b[39;49mkwargs)\n\u001b[1;32m   1103\u001b[0m \u001b[39m# Do not call functions when jit is used\u001b[39;00m\n\u001b[1;32m   1104\u001b[0m full_backward_hooks, non_full_backward_hooks \u001b[39m=\u001b[39m [], []\n",
      "Cell \u001b[0;32mIn[203], line 11\u001b[0m, in \u001b[0;36mline.forward\u001b[0;34m(self, x)\u001b[0m\n\u001b[1;32m      9\u001b[0m \u001b[39mdef\u001b[39;00m \u001b[39mforward\u001b[39m(\u001b[39mself\u001b[39m, x):\n\u001b[0;32m---> 11\u001b[0m     y \u001b[39m=\u001b[39m \u001b[39mself\u001b[39;49m\u001b[39m.\u001b[39;49mlinear(x)\n\u001b[1;32m     13\u001b[0m     \u001b[39mreturn\u001b[39;00m y\n",
      "File \u001b[0;32m/opt/anaconda3/envs/PHYS417/lib/python3.8/site-packages/torch/nn/modules/module.py:1102\u001b[0m, in \u001b[0;36mModule._call_impl\u001b[0;34m(self, *input, **kwargs)\u001b[0m\n\u001b[1;32m   1098\u001b[0m \u001b[39m# If we don't have any hooks, we want to skip the rest of the logic in\u001b[39;00m\n\u001b[1;32m   1099\u001b[0m \u001b[39m# this function, and just call forward.\u001b[39;00m\n\u001b[1;32m   1100\u001b[0m \u001b[39mif\u001b[39;00m \u001b[39mnot\u001b[39;00m (\u001b[39mself\u001b[39m\u001b[39m.\u001b[39m_backward_hooks \u001b[39mor\u001b[39;00m \u001b[39mself\u001b[39m\u001b[39m.\u001b[39m_forward_hooks \u001b[39mor\u001b[39;00m \u001b[39mself\u001b[39m\u001b[39m.\u001b[39m_forward_pre_hooks \u001b[39mor\u001b[39;00m _global_backward_hooks\n\u001b[1;32m   1101\u001b[0m         \u001b[39mor\u001b[39;00m _global_forward_hooks \u001b[39mor\u001b[39;00m _global_forward_pre_hooks):\n\u001b[0;32m-> 1102\u001b[0m     \u001b[39mreturn\u001b[39;00m forward_call(\u001b[39m*\u001b[39;49m\u001b[39minput\u001b[39;49m, \u001b[39m*\u001b[39;49m\u001b[39m*\u001b[39;49mkwargs)\n\u001b[1;32m   1103\u001b[0m \u001b[39m# Do not call functions when jit is used\u001b[39;00m\n\u001b[1;32m   1104\u001b[0m full_backward_hooks, non_full_backward_hooks \u001b[39m=\u001b[39m [], []\n",
      "File \u001b[0;32m/opt/anaconda3/envs/PHYS417/lib/python3.8/site-packages/torch/nn/modules/linear.py:103\u001b[0m, in \u001b[0;36mLinear.forward\u001b[0;34m(self, input)\u001b[0m\n\u001b[1;32m    102\u001b[0m \u001b[39mdef\u001b[39;00m \u001b[39mforward\u001b[39m(\u001b[39mself\u001b[39m, \u001b[39minput\u001b[39m: Tensor) \u001b[39m-\u001b[39m\u001b[39m>\u001b[39m Tensor:\n\u001b[0;32m--> 103\u001b[0m     \u001b[39mreturn\u001b[39;00m F\u001b[39m.\u001b[39;49mlinear(\u001b[39minput\u001b[39;49m, \u001b[39mself\u001b[39;49m\u001b[39m.\u001b[39;49mweight, \u001b[39mself\u001b[39;49m\u001b[39m.\u001b[39;49mbias)\n",
      "File \u001b[0;32m/opt/anaconda3/envs/PHYS417/lib/python3.8/site-packages/torch/nn/functional.py:1848\u001b[0m, in \u001b[0;36mlinear\u001b[0;34m(input, weight, bias)\u001b[0m\n\u001b[1;32m   1846\u001b[0m \u001b[39mif\u001b[39;00m has_torch_function_variadic(\u001b[39minput\u001b[39m, weight, bias):\n\u001b[1;32m   1847\u001b[0m     \u001b[39mreturn\u001b[39;00m handle_torch_function(linear, (\u001b[39minput\u001b[39m, weight, bias), \u001b[39minput\u001b[39m, weight, bias\u001b[39m=\u001b[39mbias)\n\u001b[0;32m-> 1848\u001b[0m \u001b[39mreturn\u001b[39;00m torch\u001b[39m.\u001b[39;49m_C\u001b[39m.\u001b[39;49m_nn\u001b[39m.\u001b[39;49mlinear(\u001b[39minput\u001b[39;49m, weight, bias)\n",
      "\u001b[0;31mRuntimeError\u001b[0m: mat1 and mat2 shapes cannot be multiplied (1x30 and 1x1)"
     ]
    }
   ],
   "source": [
    "model = line(input_dim = 1, output_dim = 1)\n",
    "\n",
    "learning_rate = 1e-2\n",
    "epochs  = 5\n",
    "\n",
    "# We will use gradient descent for our optimizer and Mean Squared Error Loss function\n",
    "loss_func = torch.nn.MSELoss()\n",
    "optimizer = torch.optim.SGD(model.parameters(), lr = learning_rate)\n",
    "print(model(torch.tensor(A1)))"
   ]
  },
  {
   "cell_type": "markdown",
   "metadata": {},
   "source": [
    "## Identify Tracked Values"
   ]
  },
  {
   "cell_type": "code",
   "execution_count": 5,
   "metadata": {},
   "outputs": [],
   "source": [
    "# follow models performance over each epoch. Identify a metric and track it over epochs\n",
    "\n",
    "# YOUR CODE HERE\n",
    "loss_list = []"
   ]
  },
  {
   "cell_type": "markdown",
   "metadata": {},
   "source": [
    "## Train Model"
   ]
  },
  {
   "cell_type": "code",
   "execution_count": 6,
   "metadata": {},
   "outputs": [
    {
     "ename": "NameError",
     "evalue": "name 'X_train' is not defined",
     "output_type": "error",
     "traceback": [
      "\u001b[0;31m---------------------------------------------------------------------------\u001b[0m",
      "\u001b[0;31mNameError\u001b[0m                                 Traceback (most recent call last)",
      "Cell \u001b[0;32mIn[6], line 2\u001b[0m\n\u001b[1;32m      1\u001b[0m \u001b[39m#Named torch tensors differnet to Numpy arrays to differentiate and not have to run the code above everytime i train the model\u001b[39;00m\n\u001b[0;32m----> 2\u001b[0m X_trainT \u001b[39m=\u001b[39m torch\u001b[39m.\u001b[39mfrom_numpy(X_train)\u001b[39m.\u001b[39mfloat()\n\u001b[1;32m      3\u001b[0m y_trainT \u001b[39m=\u001b[39m torch\u001b[39m.\u001b[39mfrom_numpy(y_train)\u001b[39m.\u001b[39mfloat()\n\u001b[1;32m      4\u001b[0m n_batches\u001b[39m=\u001b[39m\u001b[39m1\u001b[39m\n",
      "\u001b[0;31mNameError\u001b[0m: name 'X_train' is not defined"
     ]
    }
   ],
   "source": [
    "#Named torch tensors differnet to Numpy arrays to differentiate and not have to run the code above everytime i train the model\n",
    "X_trainT = torch.from_numpy(X_train).float()\n",
    "y_trainT = torch.from_numpy(y_train).float()\n",
    "n_batches=1\n",
    "batch_size=int(150/n_batches)\n",
    "\n",
    "for epoch in range(epochs):\n",
    "    optimizer.zero_grad()\n",
    "print(loss_list)\n",
    "    "
   ]
  },
  {
   "cell_type": "markdown",
   "metadata": {},
   "source": [
    "## Visualize and Evaluate Model"
   ]
  },
  {
   "cell_type": "code",
   "execution_count": null,
   "metadata": {},
   "outputs": [],
   "source": [
    "# Plot your training loss throughout the training\n",
    "# Include proper x and y labels for the plot\n",
    "\n",
    "plt.figure(figsize=(12, 6))\n",
    "\n",
    "# YOUR CODE HERE"
   ]
  },
  {
   "cell_type": "code",
   "execution_count": null,
   "metadata": {},
   "outputs": [],
   "source": [
    "# Confirm that your model's training accuracy is >90%\n",
    "\n",
    "with torch.no_grad():\n",
    "    \n",
    "    # Compare your model predictions with targets (y_train) to compute the training accuracy     \n",
    "    # YOUR CODE HERE\n",
    "        \n",
    "# Training accuracy = (# of correct predictions) / (total # of training samples)\n",
    "# You can round the model predictions to integer (e.g. 0.34 -> 0, 1.78 -> 2)\n",
    "\n",
    "# YOUR CODE HERE"
   ]
  }
 ],
 "metadata": {
  "kernelspec": {
   "display_name": "Python 3",
   "language": "python",
   "name": "python3"
  },
  "language_info": {
   "codemirror_mode": {
    "name": "ipython",
    "version": 3
   },
   "file_extension": ".py",
   "mimetype": "text/x-python",
   "name": "python",
   "nbconvert_exporter": "python",
   "pygments_lexer": "ipython3",
   "version": "3.8.0"
  }
 },
 "nbformat": 4,
 "nbformat_minor": 5
}
