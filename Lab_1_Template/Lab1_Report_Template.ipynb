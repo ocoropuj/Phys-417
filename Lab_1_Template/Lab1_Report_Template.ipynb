{
 "cells": [
  {
   "cell_type": "markdown",
   "id": "e59cc59b",
   "metadata": {},
   "source": [
    "# Lab 1 Report: \n",
    "## Data Preparation Techniques for Machine Learning"
   ]
  },
  {
   "cell_type": "markdown",
   "id": "7b057c71",
   "metadata": {},
   "source": [
    "### Name: "
   ]
  },
  {
   "cell_type": "code",
   "execution_count": null,
   "id": "5ffa2cfc",
   "metadata": {},
   "outputs": [],
   "source": [
    "# Import necessary libraries\n",
    "\n",
    "%matplotlib inline\n",
    "import numpy as np\n",
    "import pandas as pd\n",
    "import matplotlib.pyplot as plt"
   ]
  },
  {
   "cell_type": "code",
   "execution_count": null,
   "id": "8bd4f433",
   "metadata": {},
   "outputs": [],
   "source": [
    "from IPython.display import Image # For displaying images in colab jupyter cell"
   ]
  },
  {
   "cell_type": "code",
   "execution_count": null,
   "id": "cb76ac03",
   "metadata": {},
   "outputs": [],
   "source": [
    "Image('lab1_exercise1.PNG', width = 1000)"
   ]
  },
  {
   "cell_type": "code",
   "execution_count": null,
   "id": "d53e9365",
   "metadata": {},
   "outputs": [],
   "source": [
    "# Load the dataset (.csv) using pandas package\n",
    "\n",
    "data=pd.read_csv('hgcal.csv')\n",
    "\n",
    "# .head directive on the panda dataframe displays the first n-rows\n",
    "\n",
    "data.head(n = 10)"
   ]
  },
  {
   "cell_type": "code",
   "execution_count": null,
   "id": "31eb6cac",
   "metadata": {},
   "outputs": [],
   "source": [
    "# Extract only x, y, z, eta, phi and energy columns from the dataset and stack them along column direction\n",
    "# Name this new 2D array CMS_calori_dataset_np_sub. \n",
    "# The array should have dimension 420 (rows) x 6 (columns)\n",
    "\n",
    "#Set columns as normal arrays\n",
    "\n",
    "x=data['x']\n",
    "y=data['y']\n",
    "z=data['z']\n",
    "eta=data['eta']\n",
    "phi=data['phi']\n",
    "En=data['energy']\n",
    "ID=data['trackId']\n",
    "nb=np.array([])\n",
    "for i in range(len(x)):\n",
    "    nb=np.append(nb,i)\n",
    "\n",
    "CMS_calori_dataset_np_sub_scaled=np.array([nb,np.array(x),np.array(y),np.array(z),np.array(eta),np.array(phi),np.array(En),np.array(ID)])"
   ]
  },
  {
   "cell_type": "code",
   "execution_count": null,
   "id": "fa445769",
   "metadata": {},
   "outputs": [],
   "source": [
    "# Create the scaling function\n",
    "\n",
    "#Defining the scale data function\n",
    "#Create ScaledData array\n",
    "ScaledData=[]\n",
    "def scale_data(arr):\n",
    "    #Find average and Standard deviation\n",
    "    av=np.mean(arr)\n",
    "    sd=np.std(arr)\n",
    "    #Use a for loop to add every scaled term (x-µ)/sigma and append to ScaledData\n",
    "    for i in range(len(arr)):\n",
    "        ScaledData.append((arr[i]-av)/sd)"
   ]
  },
  {
   "cell_type": "code",
   "execution_count": null,
   "id": "99848799",
   "metadata": {},
   "outputs": [],
   "source": [
    "# Confirm the data is scaled for 'x' column\n",
    "\n",
    "#plt.figure(figsize = (10, 5))\n",
    "\n",
    "#plt.hist(CMS_calori_dataset_np_sub_scaled[:, 0], bins = 20, facecolor = 'grey', edgecolor = 'black', linewidth = 2)\n",
    "#plt.xticks(fontsize=14)\n",
    "#plt.yticks(fontsize=14)\n",
    "\n",
    "# Add proper x-label and y-label \n",
    "\n",
    "#Plotting Data for X\n",
    "\n",
    "#Set ScaledData array to empty and scale it\n",
    "ScaledData=[]\n",
    "scale_data(x)\n",
    "\n",
    "#define the plots for normal plot and histogram\n",
    "\n",
    "plt.hist(ScaledData,bins = 20, facecolor = 'grey', edgecolor = 'black', linewidth = 2)\n",
    "\n",
    "plt.show()"
   ]
  },
  {
   "cell_type": "code",
   "execution_count": null,
   "id": "62d7f731",
   "metadata": {},
   "outputs": [],
   "source": [
    "# Confirm the data is scaled for 'energy' column\n",
    "\n",
    "#plt.figure(figsize = (10, 5))\n",
    "\n",
    "#plt.hist(CMS_calori_dataset_np_sub_scaled[:, 5], bins = 20, facecolor = 'grey', edgecolor = 'black', linewidth = 2)\n",
    "#plt.xticks(fontsize=14)\n",
    "#plt.yticks(fontsize=14)\n",
    "\n",
    "# Add proper x-label and y-label \n",
    "\n",
    "#Set ScaledData array to empty and scale it\n",
    "ScaledData=[]\n",
    "scale_data(En)\n",
    "\n",
    "#define the plots for normal plot and histogram\n",
    "plt.hist(ScaledData,bins = 20, facecolor = 'grey', edgecolor = 'black', linewidth = 2)\n",
    "\n",
    "plt.show()"
   ]
  },
  {
   "cell_type": "markdown",
   "id": "f9fe6671",
   "metadata": {},
   "source": [
    "### Expected histogram outputs - Feel free to style your plot differently"
   ]
  },
  {
   "cell_type": "code",
   "execution_count": null,
   "id": "d9beb0ab",
   "metadata": {},
   "outputs": [],
   "source": [
    "Image('lab1_e1_expected_outputs.PNG', width = 1000)"
   ]
  },
  {
   "cell_type": "code",
   "execution_count": null,
   "id": "39bb1ad2",
   "metadata": {},
   "outputs": [],
   "source": [
    "Image('lab1_exercise2.PNG', width = 1000)"
   ]
  },
  {
   "cell_type": "code",
   "execution_count": 49,
   "id": "6b0a1422",
   "metadata": {},
   "outputs": [],
   "source": [
    "# Create the splitting function\n",
    "M=[]\n",
    "def split_data(arr, split_proportions, axis):\n",
    "    lenght=len(split_proportions)\n",
    "    for i in range(lenght-1):\n",
    "        M.append('')\n",
    "        if axis==1:\n",
    "            for j in range(int(len(arr)-1)):\n",
    "                M[i]=arr[]\n",
    "        elif axis==0:\n",
    "            for j in range(int(len(np.transpose(arr))-1)):\n",
    "                M[i].append(M[j])\n"
   ]
  },
  {
   "cell_type": "code",
   "execution_count": 50,
   "id": "546bbefb",
   "metadata": {},
   "outputs": [
    {
     "ename": "AttributeError",
     "evalue": "'str' object has no attribute 'append'",
     "output_type": "error",
     "traceback": [
      "\u001b[0;31m---------------------------------------------------------------------------\u001b[0m",
      "\u001b[0;31mAttributeError\u001b[0m                            Traceback (most recent call last)",
      "\u001b[0;32m<ipython-input-50-2bffd0bac9d8>\u001b[0m in \u001b[0;36m<module>\u001b[0;34m\u001b[0m\n\u001b[1;32m      1\u001b[0m \u001b[0;31m# Test your split function against scaled CMS Calorimieter dataset from exercise 1\u001b[0m\u001b[0;34m\u001b[0m\u001b[0;34m\u001b[0m\u001b[0;34m\u001b[0m\u001b[0m\n\u001b[1;32m      2\u001b[0m \u001b[0;34m\u001b[0m\u001b[0m\n\u001b[0;32m----> 3\u001b[0;31m \u001b[0msub_data_list_1\u001b[0m \u001b[0;34m=\u001b[0m \u001b[0msplit_data\u001b[0m\u001b[0;34m(\u001b[0m\u001b[0mCMS_calori_dataset_np_sub_scaled\u001b[0m\u001b[0;34m,\u001b[0m \u001b[0;34m[\u001b[0m\u001b[0;36m0.6\u001b[0m\u001b[0;34m,\u001b[0m \u001b[0;36m0.2\u001b[0m\u001b[0;34m,\u001b[0m \u001b[0;36m0.2\u001b[0m\u001b[0;34m]\u001b[0m\u001b[0;34m,\u001b[0m\u001b[0;36m1\u001b[0m\u001b[0;34m)\u001b[0m\u001b[0;34m\u001b[0m\u001b[0;34m\u001b[0m\u001b[0m\n\u001b[0m",
      "\u001b[0;32m<ipython-input-49-26c77a9be90a>\u001b[0m in \u001b[0;36msplit_data\u001b[0;34m(arr, split_proportions, axis)\u001b[0m\n\u001b[1;32m      7\u001b[0m         \u001b[0;32mif\u001b[0m \u001b[0maxis\u001b[0m\u001b[0;34m==\u001b[0m\u001b[0;36m1\u001b[0m\u001b[0;34m:\u001b[0m\u001b[0;34m\u001b[0m\u001b[0;34m\u001b[0m\u001b[0m\n\u001b[1;32m      8\u001b[0m             \u001b[0;32mfor\u001b[0m \u001b[0mj\u001b[0m \u001b[0;32min\u001b[0m \u001b[0mrange\u001b[0m\u001b[0;34m(\u001b[0m\u001b[0mint\u001b[0m\u001b[0;34m(\u001b[0m\u001b[0mlen\u001b[0m\u001b[0;34m(\u001b[0m\u001b[0marr\u001b[0m\u001b[0;34m)\u001b[0m\u001b[0;34m-\u001b[0m\u001b[0;36m1\u001b[0m\u001b[0;34m)\u001b[0m\u001b[0;34m)\u001b[0m\u001b[0;34m:\u001b[0m\u001b[0;34m\u001b[0m\u001b[0;34m\u001b[0m\u001b[0m\n\u001b[0;32m----> 9\u001b[0;31m                 \u001b[0mM\u001b[0m\u001b[0;34m[\u001b[0m\u001b[0mi\u001b[0m\u001b[0;34m]\u001b[0m\u001b[0;34m.\u001b[0m\u001b[0mappend\u001b[0m\u001b[0;34m(\u001b[0m\u001b[0mM\u001b[0m\u001b[0;34m[\u001b[0m\u001b[0mj\u001b[0m\u001b[0;34m]\u001b[0m\u001b[0;34m)\u001b[0m\u001b[0;34m\u001b[0m\u001b[0;34m\u001b[0m\u001b[0m\n\u001b[0m\u001b[1;32m     10\u001b[0m         \u001b[0;32melif\u001b[0m \u001b[0maxis\u001b[0m\u001b[0;34m==\u001b[0m\u001b[0;36m0\u001b[0m\u001b[0;34m:\u001b[0m\u001b[0;34m\u001b[0m\u001b[0;34m\u001b[0m\u001b[0m\n\u001b[1;32m     11\u001b[0m             \u001b[0;32mfor\u001b[0m \u001b[0mj\u001b[0m \u001b[0;32min\u001b[0m \u001b[0mrange\u001b[0m\u001b[0;34m(\u001b[0m\u001b[0mint\u001b[0m\u001b[0;34m(\u001b[0m\u001b[0mlen\u001b[0m\u001b[0;34m(\u001b[0m\u001b[0mnp\u001b[0m\u001b[0;34m.\u001b[0m\u001b[0mtranspose\u001b[0m\u001b[0;34m(\u001b[0m\u001b[0marr\u001b[0m\u001b[0;34m)\u001b[0m\u001b[0;34m)\u001b[0m\u001b[0;34m-\u001b[0m\u001b[0;36m1\u001b[0m\u001b[0;34m)\u001b[0m\u001b[0;34m)\u001b[0m\u001b[0;34m:\u001b[0m\u001b[0;34m\u001b[0m\u001b[0;34m\u001b[0m\u001b[0m\n",
      "\u001b[0;31mAttributeError\u001b[0m: 'str' object has no attribute 'append'"
     ]
    }
   ],
   "source": [
    "# Test your split function against scaled CMS Calorimieter dataset from exercise 1\n",
    "\n",
    "sub_data_list_1 = split_data(CMS_calori_dataset_np_sub_scaled, [0.6, 0.2, 0.2],0)"
   ]
  },
  {
   "cell_type": "code",
   "execution_count": null,
   "id": "d0e6e817",
   "metadata": {},
   "outputs": [],
   "source": [
    "# Confirm that dataset has been split into correct shapes\n",
    "# The correct dimensions should be (252, 6) (84, 6) (84, 6)\n",
    "\n",
    "print(sub_data_list_1[0].shape, sub_data_list_1[1].shape, sub_data_list_1[2].shape)"
   ]
  },
  {
   "cell_type": "code",
   "execution_count": null,
   "id": "8d2f53b1",
   "metadata": {},
   "outputs": [],
   "source": [
    "# Test your split function against scaled CMS Calorimieter dataset from exercise 1\n",
    "\n",
    "sub_data_list_2 = split_data(arr = CMS_calori_dataset_np_sub_scaled, \n",
    "                                                split_proportions = [0.5, 0.5], axis = 1)"
   ]
  },
  {
   "cell_type": "code",
   "execution_count": null,
   "id": "84dcf51a",
   "metadata": {},
   "outputs": [],
   "source": [
    "# Confirm that dataset has been split into correct shapes\n",
    "# The correct dimensions should be (420, 3) (420, 3)\n",
    "\n",
    "print(sub_data_list_2[0].shape, sub_data_list_2[1].shape)"
   ]
  }
 ],
 "metadata": {
  "kernelspec": {
   "display_name": "Python 3 (ipykernel)",
   "language": "python",
   "name": "python3"
  },
  "language_info": {
   "codemirror_mode": {
    "name": "ipython",
    "version": 3
   },
   "file_extension": ".py",
   "mimetype": "text/x-python",
   "name": "python",
   "nbconvert_exporter": "python",
   "pygments_lexer": "ipython3",
   "version": "3.7.6"
  }
 },
 "nbformat": 4,
 "nbformat_minor": 5
}
